{
 "cells": [
  {
   "cell_type": "code",
   "execution_count": 1,
   "metadata": {
    "collapsed": true
   },
   "outputs": [],
   "source": [
    "import os"
   ]
  },
  {
   "cell_type": "code",
   "execution_count": 2,
   "metadata": {
    "collapsed": true
   },
   "outputs": [],
   "source": [
    "import csv"
   ]
  },
  {
   "cell_type": "code",
   "execution_count": 3,
   "metadata": {
    "collapsed": true
   },
   "outputs": [],
   "source": [
    "import cv2"
   ]
  },
  {
   "cell_type": "code",
   "execution_count": 4,
   "metadata": {
    "collapsed": true
   },
   "outputs": [],
   "source": [
    "import numpy as np"
   ]
  },
  {
   "cell_type": "code",
   "execution_count": 5,
   "metadata": {
    "collapsed": true
   },
   "outputs": [],
   "source": [
    "samples =[]\n",
    "with open('Data1/driving_log.csv') as csvfile:\n",
    "    reader = csv.reader(csvfile)\n",
    "    for line in reader:\n",
    "        samples.append(line)"
   ]
  },
  {
   "cell_type": "code",
   "execution_count": 6,
   "metadata": {
    "collapsed": true
   },
   "outputs": [],
   "source": [
    "from sklearn.model_selection import train_test_split\n",
    "train_samples, validation_samples = train_test_split(samples, test_size=0.2)"
   ]
  },
  {
   "cell_type": "code",
   "execution_count": 7,
   "metadata": {
    "collapsed": true
   },
   "outputs": [],
   "source": [
    "import sklearn"
   ]
  },
  {
   "cell_type": "code",
   "execution_count": 9,
   "metadata": {
    "collapsed": true
   },
   "outputs": [],
   "source": [
    "#Horizontal and vertical shift\n",
    "def trans_image(image,steer,trans_range):\n",
    "    # Translation\n",
    "    tr_x = trans_range*np.random.uniform()-trans_range/2\n",
    "    steer_ang = steer + tr_x/trans_range*2*.12\n",
    "    tr_y = 40*np.random.uniform()-40/2\n",
    "    #tr_y = 0\n",
    "    Trans_M = np.float32([[1,0,tr_x],[0,1,tr_y]])\n",
    "    image_tr = cv2.warpAffine(image,Trans_M,(320, 160))\n",
    "    \n",
    "    return image_tr,steer_ang"
   ]
  },
  {
   "cell_type": "code",
   "execution_count": 10,
   "metadata": {
    "collapsed": true
   },
   "outputs": [],
   "source": [
    "def generator(samples, batch_size=32):\n",
    "    num_samples = len(samples)\n",
    "    while 1: # Loop forever so the generator never terminates\n",
    "        sklearn.utils.shuffle(samples)\n",
    "        for offset in range(0, num_samples, batch_size):\n",
    "            batch_samples = samples[offset:offset+batch_size]\n",
    "\n",
    "            images = []\n",
    "            angles = []\n",
    "            for batch_sample in batch_samples:\n",
    "                path_center_image = 'Data1/IMG/'+batch_sample[0].split('\\\\')[-1]\n",
    "                path_left_image = 'Data1/IMG/'+batch_sample[1].split('\\\\')[-1]\n",
    "                path_right_image = 'Data1/IMG/'+batch_sample[2].split('\\\\')[-1]\n",
    "                center_image = cv2.imread(path_center_image)\n",
    "                left_image = cv2.imread(path_left_image)\n",
    "                right_image = cv2.imread(path_right_image)\n",
    "                if center_image == None:\n",
    "                    print(\"Invalid image:\" , path_center_image)\n",
    "                else:\n",
    "                    # add images and angles to data set\n",
    "                    center_image = cv2.cvtColor(center_image, cv2.COLOR_RGB2BGR)\n",
    "                    left_image = cv2.cvtColor(left_image, cv2.COLOR_RGB2BGR)\n",
    "                    right_image = cv2.cvtColor(right_image, cv2.COLOR_RGB2BGR)\n",
    "                    images.append(center_image)\n",
    "                    images.append(left_image)\n",
    "                    images.append(right_image)\n",
    "                    steering_center = float(batch_sample[3])\n",
    "                    # create adjusted steering measurements for the side camera images\n",
    "                    correction = 0.12\n",
    "                    # 1.0/25 * 3 - the car has a steering angle of -25 to 25 in the simulation\n",
    "                    # and it is normalized in the driving_log.csv file from -1 to 1,\n",
    "                    # so 3 angles in either direction would be 0.12\n",
    "                    steering_left = steering_center + correction\n",
    "                    steering_right = steering_center - correction\n",
    "                    # angles to data set\n",
    "                    angles.append(steering_center)\n",
    "                    angles.append(steering_left)\n",
    "                    angles.append(steering_right)\n",
    "                    \n",
    "            shifted_images, shifted_angles = [],[]\n",
    "            for image, angle in zip(images, angles):\n",
    "                shifted_images.append(image)\n",
    "                shifted_angles.append(angle)\n",
    "                shifted_image, shifted_angle = trans_image(image, angle, 100)\n",
    "                shifted_images.append(shifted_image)\n",
    "                shifted_angles.append(shifted_angle)\n",
    "\n",
    "                #Make the flipped images and add them to the training data set\n",
    "            augmented_images, augmented_angles = [],[]\n",
    "            for image, angle in zip(shifted_images, shifted_angles):\n",
    "                augmented_images.append(image)\n",
    "                augmented_angles.append(angle)\n",
    "                augmented_images.append(cv2.flip(image, 1))\n",
    "                augmented_angles.append(angle * -1.0)\n",
    "                \n",
    "            # trim image to only see section with road\n",
    "            X_train = np.array(augmented_images)\n",
    "            y_train = np.array(augmented_angles)\n",
    "            yield sklearn.utils.shuffle(X_train, y_train)"
   ]
  },
  {
   "cell_type": "code",
   "execution_count": 11,
   "metadata": {
    "collapsed": true
   },
   "outputs": [],
   "source": [
    "# compile and train the model using the generator function\n",
    "train_generator = generator(train_samples, batch_size=32)\n",
    "validation_generator = generator(validation_samples, batch_size=32)"
   ]
  },
  {
   "cell_type": "code",
   "execution_count": 12,
   "metadata": {},
   "outputs": [
    {
     "name": "stderr",
     "output_type": "stream",
     "text": [
      "Using TensorFlow backend.\n"
     ]
    }
   ],
   "source": [
    "from keras.models import Sequential\n",
    "from keras.layers import Cropping2D\n",
    "from keras.layers.core import Flatten, Dense, Lambda, Dropout\n",
    "from keras.layers.convolutional import Convolution2D\n",
    "from keras.layers.pooling import MaxPooling2D"
   ]
  },
  {
   "cell_type": "code",
   "execution_count": 13,
   "metadata": {
    "collapsed": true,
    "scrolled": true
   },
   "outputs": [],
   "source": [
    "model = Sequential()\n",
    "#Cropping the images from the top to 70 rows and from the bottom to 25 rows.\n",
    "model.add(Cropping2D(cropping=((70,25), (0,0)), input_shape=(160,320,3)))\n",
    "#Normalization\n",
    "model.add(Lambda(lambda x: x / 255.0 - 0.5, input_shape=(65, 320, 3)))\n",
    "##Cropping the images from the top to 70 rows and from the bottom to 25 rows.\n",
    "#model.add(Cropping2D(cropping=((70,25), (0,0)), input_shape=(3,160,320)))\n",
    "#1st convolution layer, Input = 65x320x3, Output = 31x158x24, kernel = 5x5, strides = 2x2, padding=Valid\n",
    "#Actovate function layer, activate function = RELU\n",
    "model.add(Convolution2D(nb_filter=24, nb_row=5, nb_col=5, subsample = (2, 2), activation='relu'))\n",
    "##1st Dropout layer, keep probability = 0.5\n",
    "#model.add(Dropout(0.5))\n",
    "#2nd convolution layer, Input = 31x158x24, Output = 14x77x36, kernel = 5x5, strides = 2x2, padding=Valid\n",
    "#Activate function layer, activate function = RELU\n",
    "model.add(Convolution2D(nb_filter=36, nb_row=5, nb_col=5, subsample = (2, 2), activation='relu'))\n",
    "#3rd convolution layer, Input = 14x77x36, Output = 5x37x48, kernel = 5x5, strides = 2x2, padding=Valid\n",
    "#Activate function layer, activate function = RELU\n",
    "model.add(Convolution2D(nb_filter=48, nb_row=5, nb_col=5, subsample = (2, 2), activation='relu'))\n",
    "#4th convolution layer, Input = 5x37x48, Output = 3x35x64, kernel = 3x3, strides = 1x1, padding=Valid\n",
    "#Activate function layer, activate function = RELU\n",
    "model.add(Convolution2D(nb_filter=64, nb_row=3, nb_col=3, activation='relu'))\n",
    "#5th convolution layer, Input = 3x35x64, Output = 1x33x64, kernel = 3x3, strides = 1x1, padding=Valid\n",
    "#Activate function layer, activate function = RELU\n",
    "model.add(Convolution2D(nb_filter=64, nb_row=3, nb_col=3, activation='relu'))\n",
    "#Flatten, Input = 1x33x64, Output = 2112\n",
    "model.add(Flatten())\n",
    "#1st fully connected layer, Input = 2112, Output = 100\n",
    "model.add(Dense(100))\n",
    "#2nd fully connected layer, Input = 100, Output = 50\n",
    "model.add(Dense(50))\n",
    "#3rd fully connected layer, Input = 50, Output = 1\n",
    "model.add(Dense(1))"
   ]
  },
  {
   "cell_type": "code",
   "execution_count": 14,
   "metadata": {},
   "outputs": [
    {
     "name": "stdout",
     "output_type": "stream",
     "text": [
      "Epoch 1/3\n"
     ]
    },
    {
     "name": "stderr",
     "output_type": "stream",
     "text": [
      "/home/carnd/anaconda3/envs/carnd-term1/lib/python3.5/site-packages/ipykernel_launcher.py:17: FutureWarning: comparison to `None` will result in an elementwise object comparison in the future.\n"
     ]
    },
    {
     "name": "stdout",
     "output_type": "stream",
     "text": [
      "4608/4634 [============================>.] - ETA: 0s - loss: 0.0504"
     ]
    },
    {
     "name": "stderr",
     "output_type": "stream",
     "text": [
      "/home/carnd/anaconda3/envs/carnd-term1/lib/python3.5/site-packages/keras/engine/training.py:1569: UserWarning: Epoch comprised more than `samples_per_epoch` samples, which might affect learning results. Set `samples_per_epoch` correctly to avoid this warning.\n",
      "  warnings.warn('Epoch comprised more than '\n"
     ]
    },
    {
     "name": "stdout",
     "output_type": "stream",
     "text": [
      "4992/4634 [================================] - 16s - loss: 0.0509 - val_loss: 0.0576\n",
      "Epoch 2/3\n",
      "4992/4634 [================================] - 10s - loss: 0.0418 - val_loss: 0.0423\n",
      "Epoch 3/3\n",
      "4992/4634 [================================] - 10s - loss: 0.0361 - val_loss: 0.0350\n"
     ]
    },
    {
     "data": {
      "text/plain": [
       "<keras.callbacks.History at 0x7ff22cd5ea20>"
      ]
     },
     "execution_count": 14,
     "metadata": {},
     "output_type": "execute_result"
    }
   ],
   "source": [
    "model.compile(loss='mse', optimizer='adam')\n",
    "model.fit_generator(train_generator, samples_per_epoch= len(train_samples),\n",
    "                    validation_data=validation_generator, nb_val_samples=len(validation_samples), nb_epoch=3)"
   ]
  },
  {
   "cell_type": "code",
   "execution_count": 15,
   "metadata": {
    "collapsed": true
   },
   "outputs": [],
   "source": [
    "model.save('model.h5')"
   ]
  }
 ],
 "metadata": {
  "kernelspec": {
   "display_name": "Python 3",
   "language": "python",
   "name": "python3"
  },
  "language_info": {
   "codemirror_mode": {
    "name": "ipython",
    "version": 3
   },
   "file_extension": ".py",
   "mimetype": "text/x-python",
   "name": "python",
   "nbconvert_exporter": "python",
   "pygments_lexer": "ipython3",
   "version": "3.5.2"
  },
  "widgets": {
   "state": {},
   "version": "1.1.2"
  }
 },
 "nbformat": 4,
 "nbformat_minor": 2
}
