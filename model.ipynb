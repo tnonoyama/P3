{
 "cells": [
  {
   "cell_type": "code",
   "execution_count": 1,
   "metadata": {
    "collapsed": true
   },
   "outputs": [],
   "source": [
    "import os"
   ]
  },
  {
   "cell_type": "code",
   "execution_count": 2,
   "metadata": {
    "collapsed": true
   },
   "outputs": [],
   "source": [
    "import csv"
   ]
  },
  {
   "cell_type": "code",
   "execution_count": 3,
   "metadata": {
    "collapsed": true
   },
   "outputs": [],
   "source": [
    "import cv2"
   ]
  },
  {
   "cell_type": "code",
   "execution_count": 4,
   "metadata": {
    "collapsed": true
   },
   "outputs": [],
   "source": [
    "import numpy as np"
   ]
  },
  {
   "cell_type": "code",
   "execution_count": 5,
   "metadata": {
    "collapsed": true
   },
   "outputs": [],
   "source": [
    "samples =[]\n",
    "with open('Data1/driving_log.csv') as csvfile:\n",
    "    reader = csv.reader(csvfile)\n",
    "    for line in reader:\n",
    "        samples.append(line)"
   ]
  },
  {
   "cell_type": "code",
   "execution_count": 6,
   "metadata": {
    "collapsed": true
   },
   "outputs": [],
   "source": [
    "from sklearn.model_selection import train_test_split\n",
    "train_samples, validation_samples = train_test_split(samples, test_size=0.2)"
   ]
  },
  {
   "cell_type": "code",
   "execution_count": 7,
   "metadata": {
    "collapsed": true
   },
   "outputs": [],
   "source": [
    "import sklearn"
   ]
  },
  {
   "cell_type": "code",
   "execution_count": 8,
   "metadata": {
    "collapsed": true
   },
   "outputs": [],
   "source": [
    "#Check whether the shape of the image is correct or not.\n",
    "\n",
    "def generator(samples, batch_size=32):\n",
    "    num_samples = len(samples)\n",
    "    while 1: # Loop forever so the generator never terminates\n",
    "        sklearn.utils.shuffle(samples)\n",
    "        for offset in range(0, num_samples, batch_size):\n",
    "            batch_samples = samples[offset:offset+batch_size]\n",
    "\n",
    "            images = []\n",
    "            angles = []\n",
    "            for batch_sample in batch_samples:\n",
    "                name = 'Data1/IMG/'+batch_sample[0].split('\\\\')[-1]\n",
    "                center_image = cv2.imread(name)\n",
    "                if center_image == None:\n",
    "                    print(\"Invalid image:\" , name)\n",
    "                else:\n",
    "                    images.append(center_image)\n",
    "                    center_angle = float(batch_sample[3])\n",
    "                    angles.append(center_angle)\n",
    "\n",
    "                #Make the flipped images and add them to the training data set\n",
    "            augmented_images, augmented_angles = [],[]\n",
    "            for center_image, center_angle in zip(images, angles):\n",
    "                augmented_images.append(center_image)\n",
    "                augmented_angles.append(center_angle)\n",
    "                augmented_images.append(cv2.flip(center_image,1))\n",
    "                augmented_angles.append(center_angle * -1.0)\n",
    "                \n",
    "            # trim image to only see section with road\n",
    "            X_train = np.array(augmented_images)\n",
    "            y_train = np.array(augmented_angles)\n",
    "            yield sklearn.utils.shuffle(X_train, y_train)"
   ]
  },
  {
   "cell_type": "code",
   "execution_count": 9,
   "metadata": {
    "collapsed": true
   },
   "outputs": [],
   "source": [
    "# compile and train the model using the generator function\n",
    "train_generator = generator(train_samples, batch_size=32)\n",
    "validation_generator = generator(validation_samples, batch_size=32)"
   ]
  },
  {
   "cell_type": "code",
   "execution_count": 10,
   "metadata": {},
   "outputs": [
    {
     "name": "stderr",
     "output_type": "stream",
     "text": [
      "Using TensorFlow backend.\n"
     ]
    }
   ],
   "source": [
    "from keras.models import Sequential\n",
    "from keras.layers import Cropping2D\n",
    "from keras.layers import Flatten, Dense, Lambda\n",
    "from keras.layers.convolutional import Convolution2D\n",
    "from keras.layers.pooling import MaxPooling2D"
   ]
  },
  {
   "cell_type": "code",
   "execution_count": 11,
   "metadata": {
    "collapsed": true,
    "scrolled": true
   },
   "outputs": [],
   "source": [
    "model = Sequential()\n",
    "#Normalization\n",
    "model.add(Lambda(lambda x: x / 255.0 - 0.5, input_shape=(160, 320, 3)))\n",
    "#Cropping the images from the top to 70 rows and from the bottom to 25 rows.\n",
    "model.add(Cropping2D(cropping=((70,25), (0,0)), input_shape=(3,160,320)))\n",
    "#1st convolution layer, Input = 65x320x3, Output = 61x316x6, kernel = 5x5, strides = 1x1, padding=Valid\n",
    "#Actovate function layer, activate function = RELU\n",
    "model.add(Convolution2D(nb_filter=6, nb_row=5, nb_col=5, activation='relu'))\n",
    "#1st maxPooling layer, filter size = 2x2, strides = 2, Input = 61x158x6, Output = 31x80x6\n",
    "model.add(MaxPooling2D((2,2)))\n",
    "#2nd convolution layer, Input = 31x80x6, Output = 25x76x16, kernel = 5x5, strides = 1x1, padding=Valid\n",
    "#Actovate function layer, activate function = RELU\n",
    "model.add(Convolution2D(nb_filter=16, nb_row=5, nb_col=5, activation='relu'))\n",
    "#2nd maxPooling layer, filter size = 2x2, strides = 2, Input = 25x76x16, Output = 13x38x16\n",
    "model.add(MaxPooling2D((2,2)))\n",
    "#Flatten, Input = 13x38x16, Output = 7904\n",
    "model.add(Flatten())\n",
    "#1st fully connected layer, Input = 7904, Output = 120\n",
    "model.add(Dense(120))\n",
    "#2nd fully connected layer, Input = 120, Output = 84\n",
    "model.add(Dense(84))\n",
    "#3rd fully connected layer, Input = 120, Output = 1\n",
    "model.add(Dense(1))"
   ]
  },
  {
   "cell_type": "code",
   "execution_count": 12,
   "metadata": {},
   "outputs": [
    {
     "name": "stdout",
     "output_type": "stream",
     "text": [
      "Epoch 1/3\n"
     ]
    },
    {
     "name": "stderr",
     "output_type": "stream",
     "text": [
      "/home/carnd/anaconda3/envs/carnd-term1/lib/python3.5/site-packages/ipykernel_launcher.py:15: FutureWarning: comparison to `None` will result in an elementwise object comparison in the future.\n",
      "  from ipykernel import kernelapp as app\n"
     ]
    },
    {
     "name": "stdout",
     "output_type": "stream",
     "text": [
      "4608/4634 [============================>.] - ETA: 0s - loss: 0.2380"
     ]
    },
    {
     "name": "stderr",
     "output_type": "stream",
     "text": [
      "/home/carnd/anaconda3/envs/carnd-term1/lib/python3.5/site-packages/keras/engine/training.py:1569: UserWarning: Epoch comprised more than `samples_per_epoch` samples, which might affect learning results. Set `samples_per_epoch` correctly to avoid this warning.\n",
      "  warnings.warn('Epoch comprised more than '\n"
     ]
    },
    {
     "name": "stdout",
     "output_type": "stream",
     "text": [
      "4672/4634 [==============================] - 13s - loss: 0.2353 - val_loss: 0.0446\n",
      "Epoch 2/3\n",
      "4660/4634 [==============================] - 10s - loss: 0.0375 - val_loss: 0.0381\n",
      "Epoch 3/3\n",
      "4672/4634 [==============================] - 10s - loss: 0.0319 - val_loss: 0.0342\n"
     ]
    },
    {
     "data": {
      "text/plain": [
       "<keras.callbacks.History at 0x7f50db2c9160>"
      ]
     },
     "execution_count": 12,
     "metadata": {},
     "output_type": "execute_result"
    }
   ],
   "source": [
    "model.compile(loss='mse', optimizer='adam')\n",
    "model.fit_generator(train_generator, samples_per_epoch= len(train_samples),\n",
    "                    validation_data=validation_generator, nb_val_samples=len(validation_samples), nb_epoch=3)"
   ]
  },
  {
   "cell_type": "code",
   "execution_count": 13,
   "metadata": {
    "collapsed": true
   },
   "outputs": [],
   "source": [
    "model.save('model.h5')"
   ]
  },
  {
   "cell_type": "code",
   "execution_count": null,
   "metadata": {
    "collapsed": true
   },
   "outputs": [],
   "source": []
  }
 ],
 "metadata": {
  "kernelspec": {
   "display_name": "Python 3",
   "language": "python",
   "name": "python3"
  },
  "language_info": {
   "codemirror_mode": {
    "name": "ipython",
    "version": 3
   },
   "file_extension": ".py",
   "mimetype": "text/x-python",
   "name": "python",
   "nbconvert_exporter": "python",
   "pygments_lexer": "ipython3",
   "version": "3.5.2"
  },
  "widgets": {
   "state": {},
   "version": "1.1.2"
  }
 },
 "nbformat": 4,
 "nbformat_minor": 2
}
